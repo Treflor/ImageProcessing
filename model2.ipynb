{
  "nbformat": 4,
  "nbformat_minor": 0,
  "metadata": {
    "colab": {
      "name": "model2.ipynb",
      "provenance": [],
      "authorship_tag": "ABX9TyPofsmsh9jF3LXcao1EtJNA"
    },
    "kernelspec": {
      "name": "python3",
      "display_name": "Python 3"
    }
  },
  "cells": [
    {
      "cell_type": "markdown",
      "metadata": {
        "id": "IOtCcWA7uL73",
        "colab_type": "text"
      },
      "source": [
        "Import dependancies"
      ]
    },
    {
      "cell_type": "code",
      "metadata": {
        "id": "cLCm9ZN3s-DB",
        "colab_type": "code",
        "colab": {}
      },
      "source": [
        "import tensorflow as tf\n",
        "import os\n",
        "import numpy as np\n",
        "import zipfile\n",
        "import matplotlib.pyplot as plt\n",
        "\n",
        "\n",
        "# Make sure tenserflow version is above 2.0\n",
        "try:\n",
        "  %tensorflow_version 2.x\n",
        "except Exvception:\n",
        "  pass"
      ],
      "execution_count": 1,
      "outputs": []
    },
    {
      "cell_type": "markdown",
      "metadata": {
        "id": "Kxd9JLWXuGe2",
        "colab_type": "text"
      },
      "source": [
        "Checking tensorflow version"
      ]
    },
    {
      "cell_type": "code",
      "metadata": {
        "id": "FAo7A7Jht_la",
        "colab_type": "code",
        "colab": {
          "base_uri": "https://localhost:8080/",
          "height": 35
        },
        "outputId": "663ec428-516a-44b2-d3f6-1b4c0af4814e"
      },
      "source": [
        "tf.__version__"
      ],
      "execution_count": 2,
      "outputs": [
        {
          "output_type": "execute_result",
          "data": {
            "application/vnd.google.colaboratory.intrinsic+json": {
              "type": "string"
            },
            "text/plain": [
              "'2.2.0'"
            ]
          },
          "metadata": {
            "tags": []
          },
          "execution_count": 2
        }
      ]
    },
    {
      "cell_type": "markdown",
      "metadata": {
        "id": "H0Fh8wTiud3X",
        "colab_type": "text"
      },
      "source": [
        "Download the flower dataset and unzip it"
      ]
    },
    {
      "cell_type": "code",
      "metadata": {
        "id": "lTu5wtacuFqm",
        "colab_type": "code",
        "colab": {
          "base_uri": "https://localhost:8080/",
          "height": 51
        },
        "outputId": "7f3b24b8-c8b4-4e6f-c400-48740956780c"
      },
      "source": [
        "_URL = \"https://storage.googleapis.com/download.tensorflow.org/example_images/flower_photos.tgz\"\n",
        "\n",
        "zip_file = tf.keras.utils.get_file(origin=_URL, fname=\"flower_photos.tgz\", extract=True)\n",
        "base_dir = os.path.join(os.path.dirname(zip_file), 'flower_photos')"
      ],
      "execution_count": 3,
      "outputs": [
        {
          "output_type": "stream",
          "text": [
            "Downloading data from https://storage.googleapis.com/download.tensorflow.org/example_images/flower_photos.tgz\n",
            "228818944/228813984 [==============================] - 4s 0us/step\n"
          ],
          "name": "stdout"
        }
      ]
    }
  ]
}